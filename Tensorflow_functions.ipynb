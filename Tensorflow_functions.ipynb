{
 "cells": [
  {
   "cell_type": "markdown",
   "metadata": {
    "deletable": true,
    "editable": true
   },
   "source": [
    "# Function Types in Neural Networks:\n",
    "## What's What with Activation, Non-linearity, Transfer, Cost, and Loss Functions"
   ]
  },
  {
   "cell_type": "markdown",
   "metadata": {
    "deletable": true,
    "editable": true
   },
   "source": [
    "### Intro"
   ]
  },
  {
   "cell_type": "markdown",
   "metadata": {
    "deletable": true,
    "editable": true
   },
   "source": [
    "One of the most challenging aspects of Machine Learning at the begining is trying to resolve the confusion surrounding various functions, especially their names and applications. In neural networks we usually use functions for two purposes:\n",
    "\n",
    "1. Transfer weights from one layer to the next.\n",
    "\n",
    "2. Minimize the loss (also known as cost).\n",
    "\n",
    "The first type is interchangeably called activation, non-linearity or transfer function, which basically adds non-linearity to the input values through application to input (or output of the previous layer), weights and biases. Without an activation function between the layers, we will have linear transformation between layers, and therefore, multiple layers won't perform any better than a single layer.\n",
    "\n",
    "The second type, called cost or loss function, is usually applied to the last layer in combination with an optimization method and/or backpropagation in order to find the weights that minimize the loss/cost. Different functions have different properties and are chosen based on the structure of the network as well as the task at hand. For example, the activation function used for the last layer is different from that chosen for previous layers. In regression tasks, for instance, sigmoid or tanh activation functions are recommended over softmax function for the last layer (because the desired result must be between 0 and 1)."
   ]
  },
  {
   "cell_type": "markdown",
   "metadata": {
    "deletable": true,
    "editable": true
   },
   "source": [
    "### Activation Functions"
   ]
  },
  {
   "cell_type": "markdown",
   "metadata": {
    "deletable": true,
    "editable": true
   },
   "source": [
    "__sigmoid__: the most widely used continuous and smooth activation function. Recommended for last layer's non-linearity in regression tasks. Ranges between 0 and 1.\n",
    "> Computes sigmoid of x element-wise: specifically, y = 1 / (1 + exp(-x)).\n",
    "\n",
    "__tanh__: or hyper tangent is another continuous and smooth activation function with a range between -1 and 1.\n",
    "> Computes hyperbolic tangent of x element-wise.\n",
    "\n",
    "__softmax__: or normalized exponential function is a generalization of the logistic function that transforms a K-dimensional vector of arbitrary real values to a K-dimensional vector of real values in the range (0, 1) that add up to 1. It is recommended for last layer's non-linearity in classification tasks.\n",
    "> Computes softmax activations. For each batch i and class j we have:\n",
    "softmax[i, j] = exp(logits[i, j]) / sum_j(exp(logits[i, j]))\n",
    "\n",
    "__ReLU__: Rectified Linear Unit is the current dominant non-linearity function for layers prior to the last one, because unlike sigmoid function it doesn't saturate and is also faster to compute.\n",
    "> Computes rectified linear: max(features, 0)\n"
   ]
  },
  {
   "cell_type": "code",
   "execution_count": 1,
   "metadata": {
    "collapsed": true,
    "deletable": true,
    "editable": true
   },
   "outputs": [],
   "source": [
    "# Load libraries\n",
    "import matplotlib.pyplot as plt\n",
    "import tensorflow as tf\n",
    "import numpy as np"
   ]
  },
  {
   "cell_type": "markdown",
   "metadata": {
    "deletable": true,
    "editable": true
   },
   "source": [
    "#### Activation Functions from TensorFlow"
   ]
  },
  {
   "cell_type": "code",
   "execution_count": 2,
   "metadata": {
    "collapsed": true,
    "deletable": true,
    "editable": true
   },
   "outputs": [],
   "source": [
    "# Generate some data\n",
    "X = np.linspace(start=-5., stop=5., num=50)"
   ]
  },
  {
   "cell_type": "code",
   "execution_count": 3,
   "metadata": {
    "collapsed": true,
    "deletable": true,
    "editable": true
   },
   "outputs": [],
   "source": [
    "# Create activation functions\n",
    "f_sigm = tf.nn.sigmoid(X)  # sigmoid function\n",
    "f_tanh = tf.nn.tanh(X)     # tanh function\n",
    "f_relu = tf.nn.relu(X)     # ReLU function\n",
    "f_soft = tf.nn.softmax(X)"
   ]
  },
  {
   "cell_type": "code",
   "execution_count": 4,
   "metadata": {
    "collapsed": false,
    "deletable": true,
    "editable": true
   },
   "outputs": [],
   "source": [
    "# Start the graph\n",
    "with tf.Session() as sess:\n",
    "    # Run session & fetch values from activation functions\n",
    "    sigm_v, tanh_v, relu_v, soft_v = sess.run([f_sigm, f_tanh, f_relu, f_soft])"
   ]
  },
  {
   "cell_type": "code",
   "execution_count": 5,
   "metadata": {
    "collapsed": false,
    "deletable": true,
    "editable": true
   },
   "outputs": [
    {
     "data": {
      "image/png": "[encoded data removed]",
      "text/plain": [
       "<matplotlib.figure.Figure at 0x7fefa266eac8>"
      ]
     },
     "metadata": {},
     "output_type": "display_data"
    }
   ],
   "source": [
    "# Plot fetches\n",
    "plt.plot(X, sigm_v, 'r--', label='Sigmoid', linewidth=2)\n",
    "plt.plot(X, tanh_v, 'g:', label='Tanh', linewidth=2)\n",
    "plt.plot(X, relu_v, 'b-.', label='ReLU', linewidth=2)\n",
    "plt.plot(X, soft_v, 'k', label='Softmax', linewidth=2)\n",
    "plt.ylim([min(tanh_v)-0.5, max(relu_v)+0.5])\n",
    "plt.legend(loc='upper left')\n",
    "plt.show()"
   ]
  },
  {
   "cell_type": "markdown",
   "metadata": {
    "deletable": true,
    "editable": true
   },
   "source": [
    "#### Other notable activation functions  with brief description from TensorFlow"
   ]
  },
  {
   "cell_type": "code",
   "execution_count": null,
   "metadata": {
    "collapsed": true,
    "deletable": true,
    "editable": true
   },
   "outputs": [],
   "source": [
    "# ReLU6: limit the top to 6: min(max(features, 0), 6)\n",
    "f_relu6 = tf.nn.relu6(X)\n",
    "\n",
    "# Concatenated ReLU.\n",
    "# Concatenates a ReLU which selects only the positive part of the activation with\n",
    "# a ReLU which selects only the negative part of the activation.\n",
    "# Note that as a result this non-linearity doubles the depth of the activations.\n",
    "f_crelu = tf.nn.crelu(X)\n",
    "\n",
    "# Dropout\n",
    "f_dropout = tf.nn.dropout(X, keep_prob=0.5)\n",
    "\n",
    "# SoftSign: features / (abs(features) + 1)\n",
    "f_sign = tf.nn.softsign(X)\n",
    "\n",
    "# SoftPlus: log(exp(features) + 1)\n",
    "f_plus = tf.nn.softplus(X)\n",
    "\n",
    "# Exponential linear unit: exp(features) - 1 if < 0, features otherwise\n",
    "f_elu = tf.nn.elu(X)"
   ]
  },
  {
   "cell_type": "markdown",
   "metadata": {
    "deletable": true,
    "editable": true
   },
   "source": [
    "---"
   ]
  },
  {
   "cell_type": "markdown",
   "metadata": {
    "deletable": true,
    "editable": true
   },
   "source": [
    "### Cost functions"
   ]
  },
  {
   "cell_type": "markdown",
   "metadata": {
    "deletable": true,
    "editable": true
   },
   "source": [
    "__Cross Entropy__: is a cost function that, similar to quadratic cost function, is positive and tends toward zero as the neuron gets better at computing the desired output for all training inputs. However, CE is much faster than quadratic cost function. It is recommended for classification tasks.\n",
    "> Usually used with softmax to compute softmax cross entropy between logits and labels. Measures the probability error in discrete classification tasks in which the classes are mutually exclusive (each entry is in exactly one class).\n",
    "\n",
    "__Squared Error__: is sum of squared errors between the predicted value and the actual value and recommended as cost function for regression tasks.\n",
    "> Also known as L2 loss, measures error between two tensors, or between a tensor and zero. These can be used for measuring accuracy of a network in a regression task or for regularization purposes (weight decay)."
   ]
  },
  {
   "cell_type": "markdown",
   "metadata": {
    "deletable": true,
    "editable": true
   },
   "source": [
    "#### Cost function implementation with TensorFlow"
   ]
  },
  {
   "cell_type": "code",
   "execution_count": 21,
   "metadata": {
    "collapsed": true,
    "deletable": true,
    "editable": true
   },
   "outputs": [],
   "source": [
    "# Generate some input for regression\n",
    "X1 = tf.linspace(-5., 5., 100)\n",
    "# Create the target value: 0 here.\n",
    "Y1 = tf.constant(0.)\n",
    "\n",
    "# Generate some input for classification\n",
    "X2 = tf.linspace(-5., 5., 100)\n",
    "# Target\n",
    "Y2 = tf.fill([100,], 1.)"
   ]
  },
  {
   "cell_type": "code",
   "execution_count": 22,
   "metadata": {
    "collapsed": true,
    "deletable": true,
    "editable": true
   },
   "outputs": [],
   "source": [
    "# Squared Error, also known as L2 loss\n",
    "f_l2 = tf.nn.l2_loss(Y1 - X1)\n",
    "\n",
    "# Cross entropy loss\n",
    "f_softce = tf.nn.softmax_cross_entropy_with_logits(logits=X2, labels=Y2)"
   ]
  },
  {
   "cell_type": "code",
   "execution_count": 23,
   "metadata": {
    "collapsed": false,
    "deletable": true,
    "editable": true
   },
   "outputs": [],
   "source": [
    "# Start the graph\n",
    "with tf.Session() as sess:\n",
    "    # Run session & fetch values from cost functions\n",
    "    l2_v, softce_v = sess.run([f_l2, f_softce])"
   ]
  },
  {
   "cell_type": "code",
   "execution_count": 24,
   "metadata": {
    "collapsed": false,
    "deletable": true,
    "editable": true
   },
   "outputs": [
    {
     "data": {
      "text/plain": [
       "425.08414"
      ]
     },
     "execution_count": 24,
     "metadata": {},
     "output_type": "execute_result"
    }
   ],
   "source": [
    "l2_v"
   ]
  },
  {
   "cell_type": "code",
   "execution_count": 25,
   "metadata": {
    "collapsed": false,
    "deletable": true,
    "editable": true
   },
   "outputs": [
    {
     "data": {
      "text/plain": [
       "734.25732"
      ]
     },
     "execution_count": 25,
     "metadata": {},
     "output_type": "execute_result"
    }
   ],
   "source": [
    "softce_v"
   ]
  },
  {
   "cell_type": "markdown",
   "metadata": {
    "collapsed": true,
    "deletable": true,
    "editable": true
   },
   "source": [
    "#### Other notable cost functions with brief description from TensorFlow"
   ]
  },
  {
   "cell_type": "code",
   "execution_count": null,
   "metadata": {
    "collapsed": true
   },
   "outputs": [],
   "source": [
    "# Measures the probability error in discrete classification tasks in which each class\n",
    "# is independent and not mutually exclusive. For instance, multilabel classification.\n",
    "f_sigmoid_xent = tf.nn.sigmoid_cross_entropy_with_logits(labels, logits)\n",
    "\n",
    "# Measures the probability error in discrete classification tasks in which the\n",
    "# classes are mutually exclusive (each entry is in exactly one class).\n",
    "f_sparse_zent = tf.nn.sparse_softmax_cross_entropy_with_logits(labels, logits)\n",
    "\n",
    "# This is like f_sigmoid_xent except that pos_weight, allows one to trade off recall and\n",
    "# precision by up- or down-weighting the cost of a positive error relative to a negative error,\n",
    "# by multiplying it with the positive targets.\n",
    "f_weighted_xent = tf.nn.weighted_cross_entropy_with_logits(targets, logits, pos_weight)"
   ]
  }
 ],
 "metadata": {
  "kernelspec": {
   "display_name": "Python 3",
   "language": "python",
   "name": "python3"
  },
  "language_info": {
   "codemirror_mode": {
    "name": "ipython",
    "version": 3
   },
   "file_extension": ".py",
   "mimetype": "text/x-python",
   "name": "python",
   "nbconvert_exporter": "python",
   "pygments_lexer": "ipython3",
   "version": "3.5.2"
  }
 },
 "nbformat": 4,
 "nbformat_minor": 2
}
